{
 "cells": [
  {
   "cell_type": "markdown",
   "id": "d6b4fbd8-9e4b-4a0e-ac64-ebf274ccf8b6",
   "metadata": {},
   "source": [
    "# 1 - Etude du problème d'optimisation"
   ]
  },
  {
   "cell_type": "markdown",
   "id": "2334692f-58de-48fb-8baa-b50654e76461",
   "metadata": {},
   "source": [
    "**Question 1**"
   ]
  },
  {
   "cell_type": "markdown",
   "id": "1b15bce3-803c-4197-a3be-4ee866937f64",
   "metadata": {},
   "source": [
    "Le coût (2) représente les revenus de la boulangerie. En effet, le terme $v^T min \\lbrace q, d \\rbrace $ représente son chiffre d'affaire, avec $min \\lbrace q, d \\rbrace $ le vecteur des quantités effectivement vendues de chaque produit (si $d>q$, une partie de la demande n'est pas comblée, tandis que si $d<q$, une partie des produits n'est pas écoulée). Le terme $c^T r$, quant à lui, représente les coûts de production."
   ]
  },
  {
   "cell_type": "markdown",
   "id": "abf699c3-e802-4671-9993-466367801c57",
   "metadata": {},
   "source": [
    "**Question 2**"
   ]
  },
  {
   "cell_type": "markdown",
   "id": "e907082a-169e-4d62-b83f-bd72ae84bb91",
   "metadata": {},
   "source": [
    "Le terme $min \\lbrace q, d \\rbrace$ induit une difficulté dans la recherche de maximum car il est non différentiable."
   ]
  },
  {
   "cell_type": "markdown",
   "id": "04f0ccb3-1c57-403e-92c3-7ab5896f3f0e",
   "metadata": {},
   "source": [
    "**Question 3**"
   ]
  },
  {
   "cell_type": "markdown",
   "id": "15799767-1899-447c-aaae-e2d1629a439e",
   "metadata": {},
   "source": [
    "On pose, pour tout $i\\le p$, $h_i(q,d)=\\frac {q_i e^{-\\alpha q_i}+d_i e^{-\\alpha d_i}}{e^{-\\alpha q_i}+e^{-\\alpha d_i}}$ avec $\\alpha$ constante positive. \n",
    "\n",
    "On a alors, pour tout q, pour tout d : $h_i(q,d)=\\frac {q_i e^{-\\alpha (q_i-d_i)}+d_i}{e^{-\\alpha (q_i-d_i)}+1}$\n",
    "\n",
    "Si on fixe q et d et qu'on fait tendre $\\alpha$ vers $+\\infty$, on a :\n",
    "\n",
    "Cas 1 : $q_i\\ge d_i$, alors $h_i(q,d)$ tend vers $d_i$\n",
    "\n",
    "Cas 2 : $q_i<d_i$, alors $h_i(q,d)$ tend vers $q_i$\n",
    "\n",
    "On en déduit que $h_i$ tend, lorsque $\\alpha$ tend vers $+\\infty$, vers $min(q_i,d_i)$\n",
    "\n",
    "Pour $\\alpha \\gg 1$, on en déduit donc que $h$ forme une bonne approximation de la fonction $(q,d)\\mapsto (min(q,d))$\n",
    "\n",
    "La fonction $h$ a par ailleurs la particularité d'être différentiable en tout point de $\\mathbb{R}^{2p}$, ce qui nous sera utile dans la recherche d'extrémum."
   ]
  },
  {
   "cell_type": "markdown",
   "id": "9ad3febb-ddde-4ce7-bae4-a84dc1517f70",
   "metadata": {},
   "source": [
    "**Question 4**\n",
    "\n",
    "  On s'intéresse donc au problème d'optimisation suivant : \n",
    "\n",
    "  $$\\min_{\\begin{align} Aq-r \\leq 0 \\\\ -q \\leq 0 \\\\ -r \\leq 0   \\end{align}} (c^Tr-v^Th(q,d))$$\n",
    "\n",
    "  Où les variables de décisions sont les : q la quantité produite, et r la quantité de matières premières achetée. Cela peut être modélisé par un vecteur de $\\R^{m+p}$\n",
    "\n",
    "  Les trois contraintes listées représentent respectivement : les quantités minimales de matières premières pour produire les quantités q de produits, le fait de vendre des produits et non d'en acheter, et de même, le fait que l'on ne puisse pas vendre des matières premières."
   ]
  },
  {
   "cell_type": "markdown",
   "id": "a0da8c1e-7983-422e-91cd-ba96a0ef7feb",
   "metadata": {},
   "source": [
    "# 2 - Etude et résolution numérique"
   ]
  },
  {
   "cell_type": "markdown",
   "id": "e9dd0e23-2277-402a-afdc-f1e538f74886",
   "metadata": {},
   "source": [
    "**Question 5**\n",
    "\n",
    "Nous avons affaire à un problème d'optimisation de $\\R^{m+p}$ dans $\\R$ avec des contraintes linéaires.\n",
    "\n",
    "De plus, nous allons considérer que la fonction h est convexe composante par composante. Ce n'est rigoureusement pas le cas, mais une vérification numérique de l'allure des courbes confirme cette approximation [faire rendu numérique]"
   ]
  }
 ],
 "metadata": {
  "kernelspec": {
   "display_name": "Python 3 (ipykernel)",
   "language": "python",
   "name": "python3"
  },
  "language_info": {
   "codemirror_mode": {
    "name": "ipython",
    "version": 3
   },
   "file_extension": ".py",
   "mimetype": "text/x-python",
   "name": "python",
   "nbconvert_exporter": "python",
   "pygments_lexer": "ipython3",
   "version": "3.12.4"
  }
 },
 "nbformat": 4,
 "nbformat_minor": 5
}
