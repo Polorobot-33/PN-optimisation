{
 "cells": [
  {
   "cell_type": "markdown",
   "id": "aa148cf2-9019-43b6-a97a-3d962801caf4",
   "metadata": {},
   "source": [
    "Question 10 : point proximal"
   ]
  },
  {
   "cell_type": "code",
   "execution_count": 147,
   "id": "88284620-8136-4681-beb8-a939f9c19e2c",
   "metadata": {},
   "outputs": [],
   "source": [
    "from ipywidgets import interact, interactive, fixed, interact_manual\n",
    "import ipywidgets as widgets\n",
    "\n",
    "import numpy as np\n",
    "import matplotlib.pyplot as plt\n",
    "from scipy import optimize"
   ]
  },
  {
   "cell_type": "code",
   "execution_count": 173,
   "id": "f9c39d6e-8ae0-4907-8e3f-b05c38895f66",
   "metadata": {},
   "outputs": [],
   "source": [
    "m = 5\n",
    "p = 3\n",
    "\n",
    "alpha = 0.01\n",
    "c = 1e-3 * np.array([30, 1, 1.3, 4, 1])\n",
    "v = np.array([0.9, 1.5, 1.1])\n",
    "d = np.array([400, 67, 33])\n",
    "A = np.array([[3.5, 2,   1 ],\n",
    "              [250, 80,  25],\n",
    "              [0,   8,   3 ],\n",
    "              [0,   40,  10],\n",
    "              [0,   8.5, 0 ]])"
   ]
  },
  {
   "cell_type": "code",
   "execution_count": 174,
   "id": "95639b74-ddac-4211-a3d1-c6ad3d68d824",
   "metadata": {},
   "outputs": [],
   "source": [
    "d1 = np.array([400, 67, 33])\n",
    "d1 = np.array([500, 80, 53])\n",
    "d1 = np.array([300, 60, 43])"
   ]
  },
  {
   "cell_type": "code",
   "execution_count": 182,
   "id": "e66217ee-9702-41a8-81b3-29f9d0a835c3",
   "metadata": {},
   "outputs": [],
   "source": [
    "def uzawa(x0, lambda_0, alpha_uzawa, f, c):\n",
    "    x = x0\n",
    "    l = lambda_0\n",
    "    for j in range(10):\n",
    "        print(x)\n",
    "        x = (optimize.minimize(f, x, args=(l), method='Nelder-Mead', options={'disp':True})).x\n",
    "        print(x)\n",
    "        l = np.max(l + alpha_uzawa*c(x), 0)\n",
    "    return x,l"
   ]
  },
  {
   "cell_type": "code",
   "execution_count": 187,
   "id": "b01b82d5-49ce-4f18-8814-23b7ccca70f8",
   "metadata": {},
   "outputs": [],
   "source": [
    "# Approximation de min(d, q)\n",
    "def h(q, d) :\n",
    "    return (q*np.exp(-alpha*q) + d*np.exp(-alpha*d)) / (np.exp(-alpha*q) + np.exp(-alpha*d))\n",
    "\n",
    "def fun(grand_vecteur) :\n",
    "    q = grand_vecteur[:p]\n",
    "    r = grand_vecteur[p:]\n",
    "    return np.dot(c, r) - np.dot(v, h(q, d))\n",
    "\n",
    "def lagrangien(grand_vecteur, lambda_):\n",
    "    return fun(grand_vecteur) - np.dot(lambda_, contraintes(grand_vecteur))\n",
    "\n",
    "def contraintes(grand_vecteur):\n",
    "    q = grand_vecteur[:p]\n",
    "    r = grand_vecteur[p:]\n",
    "    \n",
    "    const = np.zeros(2*m+p)\n",
    "    const[:m] = r - np.dot(A, q)\n",
    "    const[m:2*m] = r\n",
    "    const[-p:] = q\n",
    "\n",
    "    return const\n",
    "    #vecteur_bis = np.dot(A,q) - r\n",
    "    #for i in range(m):\n",
    "    #    vecteur[i]=vecteur_bis[i]\n",
    "    #    vecteur[m+i]=-r[i]\n",
    "    #for i in range(p):\n",
    "    #    vecteur[2*m+i]=-q[i]\n",
    "    #return vecteur"
   ]
  },
  {
   "cell_type": "code",
   "execution_count": 188,
   "id": "0ecf0608-67b6-4a10-9e54-ad180a583639",
   "metadata": {},
   "outputs": [
    {
     "name": "stdout",
     "output_type": "stream",
     "text": [
      "[0. 0. 0. 0. 0. 0. 0. 0.]\n",
      "[ -69862.67102075  -69575.65412212   61681.66125395 -135317.21384481\n",
      "   28416.69785737   17637.0750093    14480.18816059  127592.43295693]\n",
      "[ -69862.67102075  -69575.65412212   61681.66125395 -135317.21384481\n",
      "   28416.69785737   17637.0750093    14480.18816059  127592.43295693]\n"
     ]
    },
    {
     "name": "stderr",
     "output_type": "stream",
     "text": [
      "C:\\Users\\Pfrae\\AppData\\Local\\Temp\\ipykernel_54096\\3269456827.py:3: RuntimeWarning: overflow encountered in exp\n",
      "  return (q*np.exp(-alpha*q) + d*np.exp(-alpha*d)) / (np.exp(-alpha*q) + np.exp(-alpha*d))\n",
      "C:\\Users\\Pfrae\\AppData\\Local\\Temp\\ipykernel_54096\\3269456827.py:3: RuntimeWarning: invalid value encountered in divide\n",
      "  return (q*np.exp(-alpha*q) + d*np.exp(-alpha*d)) / (np.exp(-alpha*q) + np.exp(-alpha*d))\n",
      "C:\\Users\\Pfrae\\AppData\\Local\\Temp\\ipykernel_54096\\3269456827.py:3: RuntimeWarning: overflow encountered in multiply\n",
      "  return (q*np.exp(-alpha*q) + d*np.exp(-alpha*d)) / (np.exp(-alpha*q) + np.exp(-alpha*d))\n",
      "C:\\Users\\Pfrae\\AppData\\Local\\Temp\\ipykernel_54096\\371218858.py:6: RuntimeWarning: Maximum number of function evaluations has been exceeded.\n",
      "  x = (optimize.minimize(f, x, args=(l), method='Nelder-Mead', options={'disp':True})).x\n"
     ]
    },
    {
     "ename": "ValueError",
     "evalue": "The user-provided objective function must return a scalar value.",
     "output_type": "error",
     "traceback": [
      "\u001b[1;31m---------------------------------------------------------------------------\u001b[0m",
      "\u001b[1;31mValueError\u001b[0m                                Traceback (most recent call last)",
      "File \u001b[1;32mC:\\miniconda\\Lib\\site-packages\\scipy\\optimize\\_optimize.py:532\u001b[0m, in \u001b[0;36m_wrap_scalar_function_maxfun_validation.<locals>.function_wrapper\u001b[1;34m(x, *wrapper_args)\u001b[0m\n\u001b[0;32m    531\u001b[0m \u001b[38;5;28;01mtry\u001b[39;00m:\n\u001b[1;32m--> 532\u001b[0m     fx \u001b[38;5;241m=\u001b[39m \u001b[43mnp\u001b[49m\u001b[38;5;241;43m.\u001b[39;49m\u001b[43masarray\u001b[49m\u001b[43m(\u001b[49m\u001b[43mfx\u001b[49m\u001b[43m)\u001b[49m\u001b[38;5;241;43m.\u001b[39;49m\u001b[43mitem\u001b[49m\u001b[43m(\u001b[49m\u001b[43m)\u001b[49m\n\u001b[0;32m    533\u001b[0m \u001b[38;5;28;01mexcept\u001b[39;00m (\u001b[38;5;167;01mTypeError\u001b[39;00m, \u001b[38;5;167;01mValueError\u001b[39;00m) \u001b[38;5;28;01mas\u001b[39;00m e:\n",
      "\u001b[1;31mValueError\u001b[0m: can only convert an array of size 1 to a Python scalar",
      "\nThe above exception was the direct cause of the following exception:\n",
      "\u001b[1;31mValueError\u001b[0m                                Traceback (most recent call last)",
      "Cell \u001b[1;32mIn[188], line 5\u001b[0m\n\u001b[0;32m      2\u001b[0m lambda_0 \u001b[38;5;241m=\u001b[39m np\u001b[38;5;241m.\u001b[39mones(\u001b[38;5;241m2\u001b[39m\u001b[38;5;241m*\u001b[39mm\u001b[38;5;241m+\u001b[39mp)\n\u001b[0;32m      3\u001b[0m alpha_uzawa \u001b[38;5;241m=\u001b[39m \u001b[38;5;241m0.1\u001b[39m\n\u001b[1;32m----> 5\u001b[0m \u001b[43muzawa\u001b[49m\u001b[43m(\u001b[49m\u001b[43mx0\u001b[49m\u001b[43m,\u001b[49m\u001b[43m \u001b[49m\u001b[43mlambda_0\u001b[49m\u001b[43m,\u001b[49m\u001b[43m \u001b[49m\u001b[43malpha_uzawa\u001b[49m\u001b[43m,\u001b[49m\u001b[43m \u001b[49m\u001b[43mlagrangien\u001b[49m\u001b[43m,\u001b[49m\u001b[43m \u001b[49m\u001b[43mcontraintes\u001b[49m\u001b[43m)\u001b[49m\n",
      "Cell \u001b[1;32mIn[182], line 6\u001b[0m, in \u001b[0;36muzawa\u001b[1;34m(x0, lambda_0, alpha_uzawa, f, c)\u001b[0m\n\u001b[0;32m      4\u001b[0m \u001b[38;5;28;01mfor\u001b[39;00m j \u001b[38;5;129;01min\u001b[39;00m \u001b[38;5;28mrange\u001b[39m(\u001b[38;5;241m10\u001b[39m):\n\u001b[0;32m      5\u001b[0m     \u001b[38;5;28mprint\u001b[39m(x)\n\u001b[1;32m----> 6\u001b[0m     x \u001b[38;5;241m=\u001b[39m (\u001b[43moptimize\u001b[49m\u001b[38;5;241;43m.\u001b[39;49m\u001b[43mminimize\u001b[49m\u001b[43m(\u001b[49m\u001b[43mf\u001b[49m\u001b[43m,\u001b[49m\u001b[43m \u001b[49m\u001b[43mx\u001b[49m\u001b[43m,\u001b[49m\u001b[43m \u001b[49m\u001b[43margs\u001b[49m\u001b[38;5;241;43m=\u001b[39;49m\u001b[43m(\u001b[49m\u001b[43ml\u001b[49m\u001b[43m)\u001b[49m\u001b[43m,\u001b[49m\u001b[43m \u001b[49m\u001b[43mmethod\u001b[49m\u001b[38;5;241;43m=\u001b[39;49m\u001b[38;5;124;43m'\u001b[39;49m\u001b[38;5;124;43mNelder-Mead\u001b[39;49m\u001b[38;5;124;43m'\u001b[39;49m\u001b[43m,\u001b[49m\u001b[43m \u001b[49m\u001b[43moptions\u001b[49m\u001b[38;5;241;43m=\u001b[39;49m\u001b[43m{\u001b[49m\u001b[38;5;124;43m'\u001b[39;49m\u001b[38;5;124;43mdisp\u001b[39;49m\u001b[38;5;124;43m'\u001b[39;49m\u001b[43m:\u001b[49m\u001b[38;5;28;43;01mTrue\u001b[39;49;00m\u001b[43m}\u001b[49m\u001b[43m)\u001b[49m)\u001b[38;5;241m.\u001b[39mx\n\u001b[0;32m      7\u001b[0m     \u001b[38;5;28mprint\u001b[39m(x)\n\u001b[0;32m      8\u001b[0m     l \u001b[38;5;241m=\u001b[39m np\u001b[38;5;241m.\u001b[39mmax(l \u001b[38;5;241m+\u001b[39m alpha_uzawa\u001b[38;5;241m*\u001b[39mc(x), \u001b[38;5;241m0\u001b[39m)\n",
      "File \u001b[1;32mC:\\miniconda\\Lib\\site-packages\\scipy\\optimize\\_minimize.py:719\u001b[0m, in \u001b[0;36mminimize\u001b[1;34m(fun, x0, args, method, jac, hess, hessp, bounds, constraints, tol, callback, options)\u001b[0m\n\u001b[0;32m    716\u001b[0m callback \u001b[38;5;241m=\u001b[39m _wrap_callback(callback, meth)\n\u001b[0;32m    718\u001b[0m \u001b[38;5;28;01mif\u001b[39;00m meth \u001b[38;5;241m==\u001b[39m \u001b[38;5;124m'\u001b[39m\u001b[38;5;124mnelder-mead\u001b[39m\u001b[38;5;124m'\u001b[39m:\n\u001b[1;32m--> 719\u001b[0m     res \u001b[38;5;241m=\u001b[39m \u001b[43m_minimize_neldermead\u001b[49m\u001b[43m(\u001b[49m\u001b[43mfun\u001b[49m\u001b[43m,\u001b[49m\u001b[43m \u001b[49m\u001b[43mx0\u001b[49m\u001b[43m,\u001b[49m\u001b[43m \u001b[49m\u001b[43margs\u001b[49m\u001b[43m,\u001b[49m\u001b[43m \u001b[49m\u001b[43mcallback\u001b[49m\u001b[43m,\u001b[49m\u001b[43m \u001b[49m\u001b[43mbounds\u001b[49m\u001b[38;5;241;43m=\u001b[39;49m\u001b[43mbounds\u001b[49m\u001b[43m,\u001b[49m\n\u001b[0;32m    720\u001b[0m \u001b[43m                               \u001b[49m\u001b[38;5;241;43m*\u001b[39;49m\u001b[38;5;241;43m*\u001b[39;49m\u001b[43moptions\u001b[49m\u001b[43m)\u001b[49m\n\u001b[0;32m    721\u001b[0m \u001b[38;5;28;01melif\u001b[39;00m meth \u001b[38;5;241m==\u001b[39m \u001b[38;5;124m'\u001b[39m\u001b[38;5;124mpowell\u001b[39m\u001b[38;5;124m'\u001b[39m:\n\u001b[0;32m    722\u001b[0m     res \u001b[38;5;241m=\u001b[39m _minimize_powell(fun, x0, args, callback, bounds, \u001b[38;5;241m*\u001b[39m\u001b[38;5;241m*\u001b[39moptions)\n",
      "File \u001b[1;32mC:\\miniconda\\Lib\\site-packages\\scipy\\optimize\\_optimize.py:817\u001b[0m, in \u001b[0;36m_minimize_neldermead\u001b[1;34m(func, x0, args, callback, maxiter, maxfev, disp, return_all, initial_simplex, xatol, fatol, adaptive, bounds, **unknown_options)\u001b[0m\n\u001b[0;32m    815\u001b[0m \u001b[38;5;28;01mtry\u001b[39;00m:\n\u001b[0;32m    816\u001b[0m     \u001b[38;5;28;01mfor\u001b[39;00m k \u001b[38;5;129;01min\u001b[39;00m \u001b[38;5;28mrange\u001b[39m(N \u001b[38;5;241m+\u001b[39m \u001b[38;5;241m1\u001b[39m):\n\u001b[1;32m--> 817\u001b[0m         fsim[k] \u001b[38;5;241m=\u001b[39m \u001b[43mfunc\u001b[49m\u001b[43m(\u001b[49m\u001b[43msim\u001b[49m\u001b[43m[\u001b[49m\u001b[43mk\u001b[49m\u001b[43m]\u001b[49m\u001b[43m)\u001b[49m\n\u001b[0;32m    818\u001b[0m \u001b[38;5;28;01mexcept\u001b[39;00m _MaxFuncCallError:\n\u001b[0;32m    819\u001b[0m     \u001b[38;5;28;01mpass\u001b[39;00m\n",
      "File \u001b[1;32mC:\\miniconda\\Lib\\site-packages\\scipy\\optimize\\_optimize.py:534\u001b[0m, in \u001b[0;36m_wrap_scalar_function_maxfun_validation.<locals>.function_wrapper\u001b[1;34m(x, *wrapper_args)\u001b[0m\n\u001b[0;32m    532\u001b[0m         fx \u001b[38;5;241m=\u001b[39m np\u001b[38;5;241m.\u001b[39masarray(fx)\u001b[38;5;241m.\u001b[39mitem()\n\u001b[0;32m    533\u001b[0m     \u001b[38;5;28;01mexcept\u001b[39;00m (\u001b[38;5;167;01mTypeError\u001b[39;00m, \u001b[38;5;167;01mValueError\u001b[39;00m) \u001b[38;5;28;01mas\u001b[39;00m e:\n\u001b[1;32m--> 534\u001b[0m         \u001b[38;5;28;01mraise\u001b[39;00m \u001b[38;5;167;01mValueError\u001b[39;00m(\u001b[38;5;124m\"\u001b[39m\u001b[38;5;124mThe user-provided objective function \u001b[39m\u001b[38;5;124m\"\u001b[39m\n\u001b[0;32m    535\u001b[0m                          \u001b[38;5;124m\"\u001b[39m\u001b[38;5;124mmust return a scalar value.\u001b[39m\u001b[38;5;124m\"\u001b[39m) \u001b[38;5;28;01mfrom\u001b[39;00m \u001b[38;5;21;01me\u001b[39;00m\n\u001b[0;32m    536\u001b[0m \u001b[38;5;28;01mreturn\u001b[39;00m fx\n",
      "\u001b[1;31mValueError\u001b[0m: The user-provided objective function must return a scalar value."
     ]
    }
   ],
   "source": [
    "x0 = np.zeros(m+p)\n",
    "lambda_0 = np.ones(2*m+p)\n",
    "alpha_uzawa = 0.1\n",
    "\n",
    "uzawa(x0, lambda_0, alpha_uzawa, lagrangien, contraintes)"
   ]
  },
  {
   "cell_type": "code",
   "execution_count": 171,
   "id": "249fea73-4250-4ee1-8143-c114711d7a41",
   "metadata": {},
   "outputs": [
    {
     "data": {
      "application/vnd.jupyter.widget-view+json": {
       "model_id": "a66c949773cd498aaf42b4dc137cc170",
       "version_major": 2,
       "version_minor": 0
      },
      "text/plain": [
       "interactive(children=(FloatSlider(value=1.0, description='alpha_interact', max=2.0, min=0.05, step=0.05), Outp…"
      ]
     },
     "metadata": {},
     "output_type": "display_data"
    }
   ],
   "source": [
    "def f(alpha_interact) :\n",
    "    global alpha\n",
    "    alpha = alpha_interact\n",
    "    x0 = np.zeros(m+p)\n",
    "    print(optimize.minimize(fun, x0, method='SLSQP', constraints={'type':'ineq', 'fun':contraintes}, options={'maxiter':1000, 'disp':True}).x[:p])\n",
    "\n",
    "interact(f, alpha_interact = (0.05, 2, 0.05));"
   ]
  },
  {
   "cell_type": "code",
   "execution_count": null,
   "id": "eae48b4a-6273-4bd9-b144-1fc50f49d67a",
   "metadata": {},
   "outputs": [],
   "source": []
  }
 ],
 "metadata": {
  "kernelspec": {
   "display_name": "Python 3 (ipykernel)",
   "language": "python",
   "name": "python3"
  },
  "language_info": {
   "codemirror_mode": {
    "name": "ipython",
    "version": 3
   },
   "file_extension": ".py",
   "mimetype": "text/x-python",
   "name": "python",
   "nbconvert_exporter": "python",
   "pygments_lexer": "ipython3",
   "version": "3.12.4"
  }
 },
 "nbformat": 4,
 "nbformat_minor": 5
}
