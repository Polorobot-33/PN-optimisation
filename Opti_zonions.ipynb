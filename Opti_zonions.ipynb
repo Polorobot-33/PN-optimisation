{
 "cells": [
  {
   "cell_type": "markdown",
   "id": "aa148cf2-9019-43b6-a97a-3d962801caf4",
   "metadata": {},
   "source": [
    "Question 10 : point proximal"
   ]
  },
  {
   "cell_type": "code",
   "execution_count": null,
   "id": "88284620-8136-4681-beb8-a939f9c19e2c",
   "metadata": {},
   "outputs": [],
   "source": []
  }
 ],
 "metadata": {
  "kernelspec": {
   "display_name": "Python 3 (ipykernel)",
   "language": "python",
   "name": "python3"
  },
  "language_info": {
   "codemirror_mode": {
    "name": "ipython",
    "version": 3
   },
   "file_extension": ".py",
   "mimetype": "text/x-python",
   "name": "python",
   "nbconvert_exporter": "python",
   "pygments_lexer": "ipython3",
   "version": "3.12.4"
  }
 },
 "nbformat": 4,
 "nbformat_minor": 5
}
