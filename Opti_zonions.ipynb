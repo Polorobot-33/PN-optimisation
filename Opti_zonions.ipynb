{
 "cells": [
  {
   "cell_type": "markdown",
   "id": "aa148cf2-9019-43b6-a97a-3d962801caf4",
   "metadata": {},
   "source": [
    "Question 10 : point proximal"
   ]
  },
  {
   "cell_type": "code",
   "execution_count": 1,
   "id": "88284620-8136-4681-beb8-a939f9c19e2c",
   "metadata": {},
   "outputs": [],
   "source": [
    "import numpy as np\n",
    "import matplotlib.pyplot as plt\n",
    "from scipy import optimize\n",
    "from casadi import *"
   ]
  },
  {
   "cell_type": "code",
   "execution_count": 2,
   "id": "f9c39d6e-8ae0-4907-8e3f-b05c38895f66",
   "metadata": {},
   "outputs": [],
   "source": [
    "m = 5\n",
    "p = 3\n",
    "\n",
    "alpha = 0.1\n",
    "c = 1e-10 * np.reshape(np.array([30, 1, 1.3, 4, 1]), (m,1))\n",
    "v = np.reshape(np.array([0.9, 1.5, 1.1]), (p, 1))\n",
    "d = np.reshape(np.array([400, 67, 33]), (p, 1))\n",
    "A = np.array([[3.5, 2,   1 ],\n",
    "              [250, 80,  25],\n",
    "              [0,   8,   3 ],\n",
    "              [0,   40,  10],\n",
    "              [0,   8.5, 0 ]])"
   ]
  },
  {
   "cell_type": "code",
   "execution_count": null,
   "id": "95639b74-ddac-4211-a3d1-c6ad3d68d824",
   "metadata": {},
   "outputs": [],
   "source": [
    "d1 = np.array([[400], [67], [33]])\n",
    "d1 = np.array([[500], [80], [53]])\n",
    "d1 = np.array([[300], [60], [43]])"
   ]
  }
 ],
 "metadata": {
  "kernelspec": {
   "display_name": "Python 3 (ipykernel)",
   "language": "python",
   "name": "python3"
  },
  "language_info": {
   "codemirror_mode": {
    "name": "ipython",
    "version": 3
   },
   "file_extension": ".py",
   "mimetype": "text/x-python",
   "name": "python",
   "nbconvert_exporter": "python",
   "pygments_lexer": "ipython3",
   "version": "3.12.4"
  }
 },
 "nbformat": 4,
 "nbformat_minor": 5
}
